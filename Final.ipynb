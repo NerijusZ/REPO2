{
  "nbformat": 4,
  "nbformat_minor": 0,
  "metadata": {
    "colab": {
      "provenance": [],
      "authorship_tag": "ABX9TyPCot+588B/gAFqOmoSY/CQ",
      "include_colab_link": true
    },
    "kernelspec": {
      "name": "python3",
      "display_name": "Python 3"
    },
    "language_info": {
      "name": "python"
    }
  },
  "cells": [
    {
      "cell_type": "markdown",
      "metadata": {
        "id": "view-in-github",
        "colab_type": "text"
      },
      "source": [
        "<a href=\"https://colab.research.google.com/github/NerijusZ/REPO2/blob/Alfa/Final.ipynb\" target=\"_parent\"><img src=\"https://colab.research.google.com/assets/colab-badge.svg\" alt=\"Open In Colab\"/></a>"
      ]
    },
    {
      "cell_type": "code",
      "execution_count": 1,
      "metadata": {
        "id": "MYshHjIA809I"
      },
      "outputs": [],
      "source": [
        "from math import fsum,sqrt\n",
        "from pprint import pprint\n",
        "from collections import defaultdict\n",
        "from functools import partial\n",
        "from random import sample\n",
        "from sklearn.datasets import load_iris"
      ]
    },
    {
      "cell_type": "code",
      "source": [
        "iris = load_iris()\n",
        "data=[tuple(d) for d in iris.data] #convert iris.data to list of tuples"
      ],
      "metadata": {
        "id": "aG5tFA7tAsoA"
      },
      "execution_count": 2,
      "outputs": []
    },
    {
      "cell_type": "code",
      "source": [
        "def dist(p,q):\n",
        "  \"\"\"To compute distance between two points (p and q)\"\"\"\n",
        "  return sqrt(fsum([(x-y)**2 for x, y in zip(p,q)]))"
      ],
      "metadata": {
        "id": "4PYYkTjLbZfd"
      },
      "execution_count": 3,
      "outputs": []
    },
    {
      "cell_type": "code",
      "source": [
        "def group_data(centroids, data):\n",
        "  \"\"\"To group data by minimal distance from centroid (the closest centroid)\"\"\"\n",
        "  d =defaultdict(list)\n",
        "  for sample in data:\n",
        "    closest_centroid =tuple(min(centroids, key=partial(dist, sample)))\n",
        "    d[closest_centroid].append(sample)\n",
        "  return d\n",
        "  "
      ],
      "metadata": {
        "id": "p-WzfvDvUqgl"
      },
      "execution_count": 4,
      "outputs": []
    },
    {
      "cell_type": "code",
      "source": [
        "def compute_centroids(groups):\n",
        "  \"\"\"To compute new centroid of each group (mean value of sample features in the group)\"\"\"\n",
        "  centroids=[]\n",
        "  for group in groups:\n",
        "    centroid=[fsum(features)/len(features) for features in zip(*group)]\n",
        "    centroids.append(centroid)\n",
        "  return(centroids)"
      ],
      "metadata": {
        "id": "p1AlvuWoNYqY"
      },
      "execution_count": 5,
      "outputs": []
    },
    {
      "cell_type": "code",
      "source": [
        "def k_means(data,k=3,max_iterations=40):\n",
        "  \"\"\"k_means - cluster data in k groups\"\"\"\n",
        "  data=list(data)\n",
        "  centroids = sample(data,k)\n",
        "  i=0\n",
        "  while (i<max_iterations):\n",
        "    old_centroids = centroids\n",
        "    clustered_data =group_data(centroids,data)\n",
        "    centroids = compute_centroids(clustered_data.values())\n",
        "    i+=1\n",
        "    if (old_centroids == centroids):\n",
        "      break\n",
        "  return clustered_data\n"
      ],
      "metadata": {
        "id": "wfQSpXHJXcfW"
      },
      "execution_count": 6,
      "outputs": []
    },
    {
      "cell_type": "code",
      "source": [
        "if __name__==\"__main__\":\n",
        "  clustered_data =k_means(data,k=3)\n",
        "  #Analysis of results\n",
        "  k=0\n",
        "  for c in clustered_data.keys():\n",
        "    k+=1\n",
        "    print (\"Cluster No.: \",k,)\n",
        "    print (\"Cluster centroid: \", c)\n",
        "    print (\"Objects in cluster: \",len(clustered_data[tuple(c)]))"
      ],
      "metadata": {
        "colab": {
          "base_uri": "https://localhost:8080/"
        },
        "id": "CfkHrqwUaDXR",
        "outputId": "6f9a4384-bea7-4a1d-e240-1a5e07e9e62a"
      },
      "execution_count": 7,
      "outputs": [
        {
          "output_type": "stream",
          "name": "stdout",
          "text": [
            "Cluster No.:  1\n",
            "Cluster centroid:  (5.006, 3.428, 1.462, 0.24600000000000002)\n",
            "Objects in cluster:  50\n",
            "Cluster No.:  2\n",
            "Cluster centroid:  (5.901612903225806, 2.7483870967741937, 4.393548387096774, 1.4338709677419357)\n",
            "Objects in cluster:  62\n",
            "Cluster No.:  3\n",
            "Cluster centroid:  (6.8500000000000005, 3.0736842105263156, 5.742105263157894, 2.0710526315789473)\n",
            "Objects in cluster:  38\n"
          ]
        }
      ]
    }
  ]
}